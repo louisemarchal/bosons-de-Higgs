{
 "cells": [
  {
   "cell_type": "code",
   "execution_count": 19,
   "metadata": {
    "collapsed": true
   },
   "outputs": [],
   "source": [
    "import random,string, math,csv\n",
    "import pandas as pd \n",
    "import matplotlib.pyplot as plt\n",
    "from  sklearn.preprocessing  import  StandardScaler \n",
    "import pylab\n",
    "from sklearn.decomposition import PCA\n",
    "from sklearn import tree\n",
    "import graphviz \n",
    "import numpy as np\n",
    "from sklearn import dummy\n",
    "from sklearn import svm\n",
    "from sklearn import linear_model\n",
    "from matplotlib import cm as cm\n",
    "import time\n",
    "from sklearn.neighbors import KNeighborsClassifier\n",
    "from sklearn.model_selection import cross_validate\n",
    "from sklearn.model_selection import train_test_split, GridSearchCV\n",
    "from sklearn.ensemble import RandomForestClassifier\n",
    "from sklearn.ensemble import AdaBoostClassifier\n",
    "from sklearn.pipeline import Pipeline\n",
    "from sklearn.metrics import make_scorer\n",
    "from statistics import mean"
   ]
  },
  {
   "cell_type": "code",
   "execution_count": 20,
   "metadata": {
    "collapsed": true
   },
   "outputs": [],
   "source": [
    "file = \"atlas-higgs-challenge-2014-v2.csv\"\n",
    "df = pd.read_csv(file)\n",
    "#print(df)"
   ]
  },
  {
   "cell_type": "code",
   "execution_count": 21,
   "metadata": {
    "collapsed": true
   },
   "outputs": [],
   "source": [
    "lab = df['Label'].copy()\n",
    "df = df.drop('Label', 1).copy()\n",
    "df = df.drop('EventId', 1).copy()\n",
    "df = df.drop('KaggleSet', 1).copy()\n",
    "df = df.drop('KaggleWeight', 1).copy()\n",
    "#print(lab)"
   ]
  },
  {
   "cell_type": "code",
   "execution_count": 22,
   "metadata": {
    "collapsed": true
   },
   "outputs": [],
   "source": [
    "weight = df['Weight']"
   ]
  },
  {
   "cell_type": "code",
   "execution_count": 23,
   "metadata": {
    "collapsed": true
   },
   "outputs": [],
   "source": [
    "df = df.drop('Weight', 1).copy()"
   ]
  },
  {
   "cell_type": "code",
   "execution_count": 24,
   "metadata": {
    "collapsed": true
   },
   "outputs": [],
   "source": [
    "features = df.columns\n",
    "x = df.values\n",
    "y = lab.values"
   ]
  },
  {
   "cell_type": "code",
   "execution_count": 25,
   "metadata": {
    "collapsed": true
   },
   "outputs": [],
   "source": [
    "w=weight.values\n",
    "y_weight=np.concatenate (([y],[w]),axis=0)\n",
    "y_weight=y_weight.T"
   ]
  },
  {
   "cell_type": "code",
   "execution_count": 26,
   "metadata": {
    "collapsed": true
   },
   "outputs": [],
   "source": [
    "X_train, X_test, Y_train, Y_test = train_test_split(x, y_weight, test_size=0.2, random_state=0)"
   ]
  },
  {
   "cell_type": "code",
   "execution_count": 27,
   "metadata": {
    "collapsed": true
   },
   "outputs": [],
   "source": [
    "tmp=Y_train.T\n",
    "W_train = tmp[1]\n",
    "Y_train=tmp[0]\n",
    "\n",
    "tmp=Y_test.T\n",
    "W_test = tmp[1]\n",
    "Y_test=tmp[0]"
   ]
  },
  {
   "cell_type": "code",
   "execution_count": 28,
   "metadata": {
    "collapsed": true
   },
   "outputs": [],
   "source": [
    "Y_train[Y_train=='b']=-1\n",
    "Y_train[Y_train=='s']=1\n",
    "Y_test[Y_test=='b']=-1\n",
    "Y_test[Y_test=='s']=1"
   ]
  },
  {
   "cell_type": "code",
   "execution_count": 29,
   "metadata": {
    "collapsed": true
   },
   "outputs": [],
   "source": [
    "Y_train= Y_train.astype(int)\n",
    "Y_test= Y_test.astype(int)"
   ]
  },
  {
   "cell_type": "code",
   "execution_count": 30,
   "metadata": {
    "collapsed": false
   },
   "outputs": [],
   "source": [
    "%store -r"
   ]
  },
  {
   "cell_type": "markdown",
   "metadata": {},
   "source": [
    "création du cross val"
   ]
  },
  {
   "cell_type": "code",
   "execution_count": 31,
   "metadata": {
    "collapsed": true
   },
   "outputs": [],
   "source": [
    "ind_cross= np.arange(len(Y_train))\n",
    "random.shuffle(ind_cross)\n",
    "ind_cross=ind_cross.reshape(5,130918)"
   ]
  },
  {
   "cell_type": "code",
   "execution_count": 14,
   "metadata": {
    "collapsed": false
   },
   "outputs": [
    {
     "name": "stdout",
     "output_type": "stream",
     "text": [
      "Stored 'ind_cross' (ndarray)\n"
     ]
    }
   ],
   "source": [
    "%store ind_cross"
   ]
  },
  {
   "cell_type": "markdown",
   "metadata": {},
   "source": [
    "score AMS"
   ]
  },
  {
   "cell_type": "code",
   "execution_count": 32,
   "metadata": {
    "collapsed": true
   },
   "outputs": [],
   "source": [
    "def scoreAMS(y, ypred, w):\n",
    "    #ypred=yhat.copy()\n",
    "    #yred[ypred=='s']=1\n",
    "    #yred[ypred=='b']=-1\n",
    "    #vrai positifs\n",
    "    tmp = y.copy()\n",
    "    tmp[tmp==-1]=0\n",
    "    tmp=tmp*w\n",
    "    s=ypred*tmp\n",
    "    s=sum(s[s>0])\n",
    "    \n",
    "    #faux positifs\n",
    "    tmp = y.copy()\n",
    "    tmp[tmp==1]=0\n",
    "    tmp=tmp*w\n",
    "    b=ypred*tmp\n",
    "    b=sum(b[b<0])\n",
    "    b = -1*b\n",
    "    return  math.sqrt (2.*( (s + b + 10.)*math.log(1.+s/(b+10.))-s))"
   ]
  },
  {
   "cell_type": "markdown",
   "metadata": {},
   "source": [
    "arbre de décision"
   ]
  },
  {
   "cell_type": "code",
   "execution_count": 19,
   "metadata": {
    "collapsed": true
   },
   "outputs": [],
   "source": [
    "acc_a = []\n",
    "acc_v = []\n",
    "ams_a = []\n",
    "ams_v = []\n",
    "scaler  =  StandardScaler () \n",
    "for i in range(2, 35, 4):\n",
    "    clf = tree.DecisionTreeClassifier(criterion='entropy', max_depth=i, class_weight='balanced')\n",
    "    acc_c_a = []\n",
    "    acc_c_v = []\n",
    "    ams_c_a = []\n",
    "    ams_c_v = []\n",
    "    for c in range (len(ind_cross)):\n",
    "        # création des ensembles d'apprentissage et de validation\n",
    "        i_v = ind_cross[c]\n",
    "        i_a = list(set(np.arange(len(Y_train)))-set(i_v))\n",
    "        x_v = X_train[i_v]\n",
    "        y_v = Y_train[i_v]\n",
    "        w_v = W_train[i_v]\n",
    "        \n",
    "        x_a = X_train[i_a]\n",
    "        y_a = Y_train[i_a]\n",
    "        w_a = W_train[i_a]\n",
    "        \n",
    "        # normalisation \n",
    "        scaler.fit(x_v)\n",
    "        x_v = scaler.transform(x_v)\n",
    "        \n",
    "        scaler.fit(x_a)\n",
    "        x_a = scaler.transform(x_a)\n",
    "        \n",
    "        # apprentissage\n",
    "        clf.fit(x_a, y_a)\n",
    "        \n",
    "        # score accuracy\n",
    "        acc_c_a.append(clf.score(x_a,y_a))\n",
    "        acc_c_v.append(clf.score(x_v,y_v))\n",
    "        \n",
    "        # score AMS \n",
    "        y_a_pred = clf.predict(x_a)\n",
    "        ams_c_a.append(scoreAMS(y_a, y_a_pred, w_a))\n",
    "        y_v_pred = clf.predict(x_v)\n",
    "        ams_c_v.append(scoreAMS(y_v, y_v_pred, w_v))\n",
    "      \n",
    "    # moyenne des score en cross validation\n",
    "    acc_a.append(mean(acc_c_a))\n",
    "    acc_v.append(mean(acc_c_v))\n",
    "    ams_a.append(mean(ams_c_a))\n",
    "    ams_v.append(mean(ams_c_v))\n",
    "        "
   ]
  },
  {
   "cell_type": "code",
   "execution_count": 20,
   "metadata": {
    "collapsed": false
   },
   "outputs": [
    {
     "name": "stdout",
     "output_type": "stream",
     "text": [
      "acc_a [0.75477818176263, 0.7988385859851205, 0.8175758871965658, 0.8384679723185505, 0.8767709558655036, 0.9235292320383751, 0.95992835209826, 0.9823187033104691, 0.9931911578239814]\n",
      "acc_v [0.7541499259078202, 0.7938709726699156, 0.8026535694098595, 0.7965764829893521, 0.7843062069386945, 0.7738370583113093, 0.7678287172123008, 0.764006477336959, 0.7617776012465818]\n",
      "ams_a [1.523584410100634, 1.7801442753288197, 1.9244828427315843, 2.0582297299164036, 2.3584305314656633, 3.0243288942351207, 4.165128036557758, 6.237911537740594, 9.756549078573787]\n",
      "ams_v [0.7608333743523029, 0.8812706207944349, 0.9269980865899133, 0.9061129334803277, 0.8534967084724508, 0.8063268458393281, 0.7718738537490908, 0.7493711818451665, 0.7362898126246878]\n"
     ]
    }
   ],
   "source": [
    "print ('acc_a',acc_a)\n",
    "print ('acc_v',acc_v)\n",
    "print ('ams_a',ams_a)\n",
    "print ('ams_v',ams_v)"
   ]
  },
  {
   "cell_type": "code",
   "execution_count": 21,
   "metadata": {
    "collapsed": false
   },
   "outputs": [
    {
     "data": {
      "image/png": "[encoded data removed]",
      "text/plain": [
       "<matplotlib.figure.Figure at 0x212a5e3c748>"
      ]
     },
     "metadata": {},
     "output_type": "display_data"
    }
   ],
   "source": [
    "plt.plot(range(2, 35, 4),acc_a, label=\"accuracy en apprentissage\")\n",
    "plt.plot(range(2, 35, 4),acc_v, label=\"accuracy en validation\")\n",
    "plt.plot(range(2, 35, 4),ams_a, label=\"AMS en apprentissage\")\n",
    "plt.plot(range(2, 35, 4),ams_v, label=\"AMS en validation\")\n",
    "plt.title(\"Accuracy et AMS d'un arbre de décision \\n en fonction de sa profondeur\")\n",
    "plt.legend()\n",
    "plt.show()"
   ]
  },
  {
   "cell_type": "code",
   "execution_count": 23,
   "metadata": {
    "collapsed": false
   },
   "outputs": [
    {
     "data": {
      "text/html": [
       "<div>\n",
       "<style scoped>\n",
       "    .dataframe tbody tr th:only-of-type {\n",
       "        vertical-align: middle;\n",
       "    }\n",
       "\n",
       "    .dataframe tbody tr th {\n",
       "        vertical-align: top;\n",
       "    }\n",
       "\n",
       "    .dataframe thead th {\n",
       "        text-align: right;\n",
       "    }\n",
       "</style>\n",
       "<table border=\"1\" class=\"dataframe\">\n",
       "  <thead>\n",
       "    <tr style=\"text-align: right;\">\n",
       "      <th></th>\n",
       "      <th>acc train</th>\n",
       "      <th>acc val</th>\n",
       "      <th>ams train</th>\n",
       "      <th>ams val</th>\n",
       "    </tr>\n",
       "  </thead>\n",
       "  <tbody>\n",
       "    <tr>\n",
       "      <th>2</th>\n",
       "      <td>0.754778</td>\n",
       "      <td>0.754150</td>\n",
       "      <td>1.523584</td>\n",
       "      <td>0.760833</td>\n",
       "    </tr>\n",
       "    <tr>\n",
       "      <th>6</th>\n",
       "      <td>0.798839</td>\n",
       "      <td>0.793871</td>\n",
       "      <td>1.780144</td>\n",
       "      <td>0.881271</td>\n",
       "    </tr>\n",
       "    <tr>\n",
       "      <th>10</th>\n",
       "      <td>0.817576</td>\n",
       "      <td>0.802654</td>\n",
       "      <td>1.924483</td>\n",
       "      <td>0.926998</td>\n",
       "    </tr>\n",
       "    <tr>\n",
       "      <th>14</th>\n",
       "      <td>0.838468</td>\n",
       "      <td>0.796576</td>\n",
       "      <td>2.058230</td>\n",
       "      <td>0.906113</td>\n",
       "    </tr>\n",
       "    <tr>\n",
       "      <th>18</th>\n",
       "      <td>0.876771</td>\n",
       "      <td>0.784306</td>\n",
       "      <td>2.358431</td>\n",
       "      <td>0.853497</td>\n",
       "    </tr>\n",
       "    <tr>\n",
       "      <th>22</th>\n",
       "      <td>0.923529</td>\n",
       "      <td>0.773837</td>\n",
       "      <td>3.024329</td>\n",
       "      <td>0.806327</td>\n",
       "    </tr>\n",
       "    <tr>\n",
       "      <th>26</th>\n",
       "      <td>0.959928</td>\n",
       "      <td>0.767829</td>\n",
       "      <td>4.165128</td>\n",
       "      <td>0.771874</td>\n",
       "    </tr>\n",
       "    <tr>\n",
       "      <th>30</th>\n",
       "      <td>0.982319</td>\n",
       "      <td>0.764006</td>\n",
       "      <td>6.237912</td>\n",
       "      <td>0.749371</td>\n",
       "    </tr>\n",
       "    <tr>\n",
       "      <th>34</th>\n",
       "      <td>0.993191</td>\n",
       "      <td>0.761778</td>\n",
       "      <td>9.756549</td>\n",
       "      <td>0.736290</td>\n",
       "    </tr>\n",
       "  </tbody>\n",
       "</table>\n",
       "</div>"
      ],
      "text/plain": [
       "    acc train   acc val  ams train   ams val\n",
       "2    0.754778  0.754150   1.523584  0.760833\n",
       "6    0.798839  0.793871   1.780144  0.881271\n",
       "10   0.817576  0.802654   1.924483  0.926998\n",
       "14   0.838468  0.796576   2.058230  0.906113\n",
       "18   0.876771  0.784306   2.358431  0.853497\n",
       "22   0.923529  0.773837   3.024329  0.806327\n",
       "26   0.959928  0.767829   4.165128  0.771874\n",
       "30   0.982319  0.764006   6.237912  0.749371\n",
       "34   0.993191  0.761778   9.756549  0.736290"
      ]
     },
     "execution_count": 23,
     "metadata": {},
     "output_type": "execute_result"
    }
   ],
   "source": [
    "p = pd.DataFrame(np.array([acc_a, acc_v, ams_a, ams_v]).T, columns=['acc train', 'acc val', 'ams train', 'ams val'], index=range(2, 35, 4))\n",
    "p"
   ]
  },
  {
   "cell_type": "code",
   "execution_count": 22,
   "metadata": {
    "collapsed": false
   },
   "outputs": [
    {
     "data": {
      "image/png": "[encoded data removed]",
      "text/plain": [
       "<matplotlib.figure.Figure at 0x1a8a6aae3c8>"
      ]
     },
     "metadata": {},
     "output_type": "display_data"
    }
   ],
   "source": [
    "plt.plot(range(2,35,4), [1.523584, 1.780144, 1.924483, 2.058230, 2.358431, 3.024329, 4.165128, 6.237912, 9.756549], label=\"apprentissage\")\n",
    "plt.plot(range(2,35,4), [0.760833, 0.881271, 0.926998, 0.906113, 0.853497, 0.806327, 0.771874, 0.749371, 0.736290], label=\"validation\")\n",
    "plt.title(\"AMS de l'arbre de décision en fonction de la profondeur\")\n",
    "plt.legend()\n",
    "plt.show()"
   ]
  },
  {
   "cell_type": "code",
   "execution_count": 21,
   "metadata": {
    "collapsed": false
   },
   "outputs": [
    {
     "data": {
      "image/png": "[encoded data removed]",
      "text/plain": [
       "<matplotlib.figure.Figure at 0x1a8a69d6eb8>"
      ]
     },
     "metadata": {},
     "output_type": "display_data"
    }
   ],
   "source": [
    "plt.plot(range(2,35,4), [0.754778, 0.798839, 0.817576, 0.838468, 0.876771, 0.923529, 0.959928, 0.982319, 0.993191], label=\"apprentissage\")\n",
    "plt.plot(range(2,35,4), [0.754150, 0.793871, 0.802654, 0.796576, 0.784306, 0.773837, 0.767829, 0.764006, 0.761778], label=\"validation\")\n",
    "plt.title(\"Accuracy de l'arbre de décision en fonction de la profondeur\")\n",
    "plt.legend()\n",
    "plt.show()"
   ]
  },
  {
   "cell_type": "code",
   "execution_count": null,
   "metadata": {
    "collapsed": true
   },
   "outputs": [],
   "source": [
    "clf = tree.DecisionTreeClassifier(criterion='entropy', max_depth=10, class_weight='balanced')\n",
    "clf.fit(X_train, Y_train)\n",
    "print(\"accuracy test\", clf.score(X_test, Y_test))\n",
    "y_v_pred = clf.predict(x_v)\n",
    "print(\"ams test\", scoreAMS(Y_test, y_v_pred, W_test)"
   ]
  },
  {
   "cell_type": "markdown",
   "metadata": {},
   "source": [
    "Régression logistique"
   ]
  },
  {
   "cell_type": "markdown",
   "metadata": {},
   "source": [
    "l1"
   ]
  },
  {
   "cell_type": "code",
   "execution_count": 24,
   "metadata": {
    "collapsed": true
   },
   "outputs": [],
   "source": [
    "acc_a_reg_l1 = []\n",
    "acc_v_reg_l1 = []\n",
    "ams_a_reg_l1 = []\n",
    "ams_v_reg_l1 = []\n",
    "scaler  =  StandardScaler () \n",
    "for c in [ 0.01, 0.1, 1, 10, 50]:\n",
    "    clf = linear_model.LogisticRegression(penalty='l1', C=c, class_weight='balanced', random_state=0)\n",
    "    acc_c_a = []\n",
    "    acc_c_v = []\n",
    "    ams_c_a = []\n",
    "    ams_c_v = []\n",
    "    for c in range (len(ind_cross)):\n",
    "        # création des ensembles d'apprentissage et de validation\n",
    "        i_v = ind_cross[c]\n",
    "        i_a = list(set(np.arange(len(Y_train)))-set(i_v))\n",
    "        x_v = X_train[i_v]\n",
    "        y_v = Y_train[i_v]\n",
    "        w_v = W_train[i_v]\n",
    "        \n",
    "        x_a = X_train[i_a]\n",
    "        y_a = Y_train[i_a]\n",
    "        w_a = W_train[i_a]\n",
    "        \n",
    "        # normalisation \n",
    "        scaler.fit(x_v)\n",
    "        x_v = scaler.transform(x_v)\n",
    "        \n",
    "        scaler.fit(x_a)\n",
    "        x_a = scaler.transform(x_a)\n",
    "        \n",
    "        # apprentissage\n",
    "        clf.fit(x_a, y_a)\n",
    "        \n",
    "        # score accuracy\n",
    "        acc_c_a.append(clf.score(x_a,y_a))\n",
    "        acc_c_v.append(clf.score(x_v,y_v))\n",
    "        \n",
    "        # score AMS \n",
    "        y_a_pred = clf.predict(x_a)\n",
    "        ams_c_a.append(scoreAMS(y_a, y_a_pred, w_a))\n",
    "        y_v_pred = clf.predict(x_v)\n",
    "        ams_c_v.append(scoreAMS(y_v, y_v_pred, w_v))\n",
    "      \n",
    "    # moyenne des score en cross validation\n",
    "    acc_a_reg_l1.append(mean(acc_c_a))\n",
    "    acc_v_reg_l1.append(mean(acc_c_v))\n",
    "    ams_a_reg_l1.append(mean(ams_c_a))\n",
    "    ams_v_reg_l1.append(mean(ams_c_v))"
   ]
  },
  {
   "cell_type": "code",
   "execution_count": 21,
   "metadata": {
    "collapsed": false
   },
   "outputs": [
    {
     "name": "stdout",
     "output_type": "stream",
     "text": [
      "acc_a_reg_l1 [0.73502459554835853, 0.73515368398539538, 0.73515215631158437, 0.73515253823003712, 0.73515253823003712]\n",
      "acc_v_reg_l1 [0.73497303655723434, 0.73511052720023218, 0.73508761209306583, 0.73508150139782158, 0.73508608441925483]\n",
      "ams_a_reg_l1 [1.6137858847288433, 1.61360408926273, 1.6137681717236003, 1.6137768449645036, 1.6137687754271142]\n",
      "ams_v_reg_l1 [0.8065033443251358, 0.806365996927646, 0.8063771399171784, 0.8063054251754881, 0.8063621168180747]\n"
     ]
    }
   ],
   "source": [
    "print ('acc_a_reg_l1',acc_a_reg_l1)\n",
    "print ('acc_v_reg_l1',acc_v_reg_l1)\n",
    "print ('ams_a_reg_l1',ams_a_reg_l1)\n",
    "print ('ams_v_reg_l1',ams_v_reg_l1)"
   ]
  },
  {
   "cell_type": "code",
   "execution_count": 20,
   "metadata": {
    "collapsed": false
   },
   "outputs": [
    {
     "name": "stdout",
     "output_type": "stream",
     "text": [
      "Stored 'acc_a_reg_l1' (list)\n",
      "Stored 'acc_v_reg_l1' (list)\n",
      "Stored 'ams_a_reg_l1' (list)\n",
      "Stored 'ams_v_reg_l1' (list)\n"
     ]
    }
   ],
   "source": [
    "\"\"\"%store acc_a_reg_l1\n",
    "%store acc_v_reg_l1\n",
    "%store ams_a_reg_l1\n",
    "%store ams_v_reg_l1\"\"\""
   ]
  },
  {
   "cell_type": "code",
   "execution_count": 27,
   "metadata": {
    "collapsed": false
   },
   "outputs": [
    {
     "data": {
      "image/png": "[encoded data removed]",
      "text/plain": [
       "<matplotlib.figure.Figure at 0x212a9f6d5c0>"
      ]
     },
     "metadata": {},
     "output_type": "display_data"
    }
   ],
   "source": [
    "plt.plot([ 0.01, 0.1, 1, 10, 50],acc_a_reg_l1, label=\"accuracy en apprentissage\")\n",
    "plt.plot([ 0.01, 0.1, 1, 10, 50],acc_v_reg_l1, label=\"accuracy en validation\")\n",
    "plt.plot([ 0.01, 0.1, 1, 10, 50],ams_a_reg_l1, label=\"AMS en apprentissage\")\n",
    "plt.plot([ 0.01, 0.1, 1, 10, 50],ams_v_reg_l1, label=\"AMS en validation\")\n",
    "plt.title(\"Accuracy et AMS de la régression logistique \\n avec une pénalité l1 en fonction du paramètre C\")\n",
    "plt.legend()\n",
    "plt.show()"
   ]
  },
  {
   "cell_type": "code",
   "execution_count": 28,
   "metadata": {
    "collapsed": false
   },
   "outputs": [
    {
     "data": {
      "text/html": [
       "<div>\n",
       "<style scoped>\n",
       "    .dataframe tbody tr th:only-of-type {\n",
       "        vertical-align: middle;\n",
       "    }\n",
       "\n",
       "    .dataframe tbody tr th {\n",
       "        vertical-align: top;\n",
       "    }\n",
       "\n",
       "    .dataframe thead th {\n",
       "        text-align: right;\n",
       "    }\n",
       "</style>\n",
       "<table border=\"1\" class=\"dataframe\">\n",
       "  <thead>\n",
       "    <tr style=\"text-align: right;\">\n",
       "      <th></th>\n",
       "      <th>acc train</th>\n",
       "      <th>acc val</th>\n",
       "      <th>ams train</th>\n",
       "      <th>ams val</th>\n",
       "    </tr>\n",
       "  </thead>\n",
       "  <tbody>\n",
       "    <tr>\n",
       "      <th>0.01</th>\n",
       "      <td>0.735038</td>\n",
       "      <td>0.734923</td>\n",
       "      <td>1.613963</td>\n",
       "      <td>0.806232</td>\n",
       "    </tr>\n",
       "    <tr>\n",
       "      <th>0.10</th>\n",
       "      <td>0.735146</td>\n",
       "      <td>0.734999</td>\n",
       "      <td>1.613773</td>\n",
       "      <td>0.805979</td>\n",
       "    </tr>\n",
       "    <tr>\n",
       "      <th>1.00</th>\n",
       "      <td>0.735170</td>\n",
       "      <td>0.735011</td>\n",
       "      <td>1.613987</td>\n",
       "      <td>0.806047</td>\n",
       "    </tr>\n",
       "    <tr>\n",
       "      <th>10.00</th>\n",
       "      <td>0.735165</td>\n",
       "      <td>0.735031</td>\n",
       "      <td>1.614064</td>\n",
       "      <td>0.806116</td>\n",
       "    </tr>\n",
       "    <tr>\n",
       "      <th>50.00</th>\n",
       "      <td>0.735166</td>\n",
       "      <td>0.735019</td>\n",
       "      <td>1.614061</td>\n",
       "      <td>0.806095</td>\n",
       "    </tr>\n",
       "  </tbody>\n",
       "</table>\n",
       "</div>"
      ],
      "text/plain": [
       "       acc train   acc val  ams train   ams val\n",
       "0.01    0.735038  0.734923   1.613963  0.806232\n",
       "0.10    0.735146  0.734999   1.613773  0.805979\n",
       "1.00    0.735170  0.735011   1.613987  0.806047\n",
       "10.00   0.735165  0.735031   1.614064  0.806116\n",
       "50.00   0.735166  0.735019   1.614061  0.806095"
      ]
     },
     "execution_count": 28,
     "metadata": {},
     "output_type": "execute_result"
    }
   ],
   "source": [
    "p_reg_l1 = pd.DataFrame(np.array([acc_a_reg_l1, acc_v_reg_l1, ams_a_reg_l1, ams_v_reg_l1]).T, columns=['acc train', 'acc val', 'ams train', 'ams val'], index=np.array([ 0.01, 0.1, 1, 10, 50]))\n",
    "p_reg_l1"
   ]
  },
  {
   "cell_type": "code",
   "execution_count": 18,
   "metadata": {
    "collapsed": false
   },
   "outputs": [
    {
     "data": {
      "image/png": "[encoded data removed]",
      "text/plain": [
       "<matplotlib.figure.Figure at 0x1a898c5eb00>"
      ]
     },
     "metadata": {},
     "output_type": "display_data"
    }
   ],
   "source": [
    "plt.plot([0.01, 0.1, 1, 10, 50], [1.613963, 1.613773, 1.613987, 1.614064, 1.614061], label=\"apprentissage\")\n",
    "plt.plot([0.01, 0.1, 1, 10, 50], [0.806232, 0.805979, 0.806047, 0.806116, 0.806095], label=\"validation\")\n",
    "plt.title(\"AMS de la régression logistique avec une pénalité l1 en fonction des valeurs de C\")\n",
    "plt.legend()\n",
    "plt.show()"
   ]
  },
  {
   "cell_type": "code",
   "execution_count": 17,
   "metadata": {
    "collapsed": false
   },
   "outputs": [
    {
     "data": {
      "image/png": "[encoded data removed]",
      "text/plain": [
       "<matplotlib.figure.Figure at 0x1a8e7ddeb00>"
      ]
     },
     "metadata": {},
     "output_type": "display_data"
    }
   ],
   "source": [
    "plt.plot([0.01, 0.1, 1, 10, 50], [0.735038, 0.735146, 0.735170, 0.735165, 0.735166], label=\"apprentissage\")\n",
    "plt.plot([0.01, 0.1, 1, 10, 50], [0.734923, 0.734999, 0.735011, 0.735031, 0.735019], label=\"validation\")\n",
    "plt.title(\"Accuracy de la régression logistique avec une pénalité l1 en fonction des valeurs de C\")\n",
    "plt.legend()\n",
    "plt.show()"
   ]
  },
  {
   "cell_type": "markdown",
   "metadata": {},
   "source": [
    "l2"
   ]
  },
  {
   "cell_type": "code",
   "execution_count": 29,
   "metadata": {
    "collapsed": true
   },
   "outputs": [],
   "source": [
    "acc_a_reg_l2 = []\n",
    "acc_v_reg_l2 = []\n",
    "ams_a_reg_l2 = []\n",
    "ams_v_reg_l2 = []\n",
    "scaler  =  StandardScaler () \n",
    "for c in [ 0.01, 0.1, 1, 10, 50]:\n",
    "    clf = linear_model.LogisticRegression(penalty='l2', C=c, class_weight='balanced', random_state=0)\n",
    "    acc_c_a = []\n",
    "    acc_c_v = []\n",
    "    ams_c_a = []\n",
    "    ams_c_v = []\n",
    "    for c in range (len(ind_cross)):\n",
    "        # création des ensembles d'apprentissage et de validation\n",
    "        i_v = ind_cross[c]\n",
    "        i_a = list(set(np.arange(len(Y_train)))-set(i_v))\n",
    "        x_v = X_train[i_v]\n",
    "        y_v = Y_train[i_v]\n",
    "        w_v = W_train[i_v]\n",
    "        \n",
    "        x_a = X_train[i_a]\n",
    "        y_a = Y_train[i_a]\n",
    "        w_a = W_train[i_a]\n",
    "        \n",
    "        # normalisation \n",
    "        scaler.fit(x_v)\n",
    "        x_v = scaler.transform(x_v)\n",
    "        \n",
    "        scaler.fit(x_a)\n",
    "        x_a = scaler.transform(x_a)\n",
    "        \n",
    "        # apprentissage\n",
    "        clf.fit(x_a, y_a)\n",
    "        \n",
    "        # score accuracy\n",
    "        acc_c_a.append(clf.score(x_a,y_a))\n",
    "        acc_c_v.append(clf.score(x_v,y_v))\n",
    "        \n",
    "        # score AMS \n",
    "        y_a_pred = clf.predict(x_a)\n",
    "        ams_c_a.append(scoreAMS(y_a, y_a_pred, w_a))\n",
    "        y_v_pred = clf.predict(x_v)\n",
    "        ams_c_v.append(scoreAMS(y_v, y_v_pred, w_v))\n",
    "      \n",
    "    # moyenne des score en cross validation\n",
    "    acc_a_reg_l2.append(mean(acc_c_a))\n",
    "    acc_v_reg_l2.append(mean(acc_c_v))\n",
    "    ams_a_reg_l2.append(mean(ams_c_a))\n",
    "    ams_v_reg_l2.append(mean(ams_c_v))\n"
   ]
  },
  {
   "cell_type": "code",
   "execution_count": 15,
   "metadata": {
    "collapsed": false
   },
   "outputs": [
    {
     "name": "stdout",
     "output_type": "stream",
     "text": [
      "acc_a_reg_l2 [0.73508264715317984, 0.73514986480086775, 0.73516055851754536, 0.73516781496814798, 0.73520638873187805]\n",
      "acc_v_reg_l2 [0.73506622465971061, 0.73511816556928766, 0.73509830580974356, 0.73506622465971072, 0.73512885928596527]\n",
      "ams_a_reg_l2 [1.6130908226449476, 1.6136888386877302, 1.6137839715627975, 1.613751858179457, 1.6136032077773814]\n",
      "ams_v_reg_l2 [0.8063030934353601, 0.8064557074796359, 0.806441834594776, 0.8063735105160242, 0.8063294205008137]\n"
     ]
    }
   ],
   "source": [
    "print ('acc_a_reg_l2',acc_a_reg_l2)\n",
    "print ('acc_v_reg_l2',acc_v_reg_l2)\n",
    "print ('ams_a_reg_l2',ams_a_reg_l2)\n",
    "print ('ams_v_reg_l2',ams_v_reg_l2)"
   ]
  },
  {
   "cell_type": "code",
   "execution_count": 16,
   "metadata": {
    "collapsed": false
   },
   "outputs": [
    {
     "name": "stdout",
     "output_type": "stream",
     "text": [
      "Stored 'acc_a_reg_l2' (list)\n",
      "Stored 'acc_v_reg_l2' (list)\n",
      "Stored 'ams_a_reg_l2' (list)\n",
      "Stored 'ams_v_reg_l2' (list)\n"
     ]
    }
   ],
   "source": [
    "\"\"\"%store acc_a_reg_l2\n",
    "%store acc_v_reg_l2\n",
    "%store ams_a_reg_l2\n",
    "%store ams_v_reg_l2\"\"\""
   ]
  },
  {
   "cell_type": "code",
   "execution_count": 30,
   "metadata": {
    "collapsed": false
   },
   "outputs": [
    {
     "data": {
      "image/png": "[encoded data removed]",
      "text/plain": [
       "<matplotlib.figure.Figure at 0x212981267f0>"
      ]
     },
     "metadata": {},
     "output_type": "display_data"
    }
   ],
   "source": [
    "plt.plot([ 0.01, 0.1, 1, 10, 50],acc_a_reg_l2, label=\"accuracy en apprentissage\")\n",
    "plt.plot([ 0.01, 0.1, 1, 10, 50],acc_v_reg_l2, label=\"accuracy en validation\")\n",
    "plt.plot([ 0.01, 0.1, 1, 10, 50],ams_a_reg_l2, label=\"AMS en apprentissage\")\n",
    "plt.plot([ 0.01, 0.1, 1, 10, 50],ams_v_reg_l2, label=\"AMS en validation\")\n",
    "plt.title(\"Accuracy et AMS de la régression logistique \\n avec une pénalité l2 en fonction du paramètre C\")\n",
    "plt.legend()\n",
    "plt.show()"
   ]
  },
  {
   "cell_type": "code",
   "execution_count": 31,
   "metadata": {
    "collapsed": false
   },
   "outputs": [
    {
     "data": {
      "text/html": [
       "<div>\n",
       "<style scoped>\n",
       "    .dataframe tbody tr th:only-of-type {\n",
       "        vertical-align: middle;\n",
       "    }\n",
       "\n",
       "    .dataframe tbody tr th {\n",
       "        vertical-align: top;\n",
       "    }\n",
       "\n",
       "    .dataframe thead th {\n",
       "        text-align: right;\n",
       "    }\n",
       "</style>\n",
       "<table border=\"1\" class=\"dataframe\">\n",
       "  <thead>\n",
       "    <tr style=\"text-align: right;\">\n",
       "      <th></th>\n",
       "      <th>acc train</th>\n",
       "      <th>acc val</th>\n",
       "      <th>ams train</th>\n",
       "      <th>ams val</th>\n",
       "    </tr>\n",
       "  </thead>\n",
       "  <tbody>\n",
       "    <tr>\n",
       "      <th>0.01</th>\n",
       "      <td>0.735073</td>\n",
       "      <td>0.735001</td>\n",
       "      <td>1.613163</td>\n",
       "      <td>0.805926</td>\n",
       "    </tr>\n",
       "    <tr>\n",
       "      <th>0.10</th>\n",
       "      <td>0.735166</td>\n",
       "      <td>0.735013</td>\n",
       "      <td>1.613926</td>\n",
       "      <td>0.806101</td>\n",
       "    </tr>\n",
       "    <tr>\n",
       "      <th>1.00</th>\n",
       "      <td>0.735175</td>\n",
       "      <td>0.735025</td>\n",
       "      <td>1.614009</td>\n",
       "      <td>0.806192</td>\n",
       "    </tr>\n",
       "    <tr>\n",
       "      <th>10.00</th>\n",
       "      <td>0.735172</td>\n",
       "      <td>0.735078</td>\n",
       "      <td>1.613934</td>\n",
       "      <td>0.806228</td>\n",
       "    </tr>\n",
       "    <tr>\n",
       "      <th>50.00</th>\n",
       "      <td>0.735191</td>\n",
       "      <td>0.735075</td>\n",
       "      <td>1.613794</td>\n",
       "      <td>0.806300</td>\n",
       "    </tr>\n",
       "  </tbody>\n",
       "</table>\n",
       "</div>"
      ],
      "text/plain": [
       "       acc train   acc val  ams train   ams val\n",
       "0.01    0.735073  0.735001   1.613163  0.805926\n",
       "0.10    0.735166  0.735013   1.613926  0.806101\n",
       "1.00    0.735175  0.735025   1.614009  0.806192\n",
       "10.00   0.735172  0.735078   1.613934  0.806228\n",
       "50.00   0.735191  0.735075   1.613794  0.806300"
      ]
     },
     "execution_count": 31,
     "metadata": {},
     "output_type": "execute_result"
    }
   ],
   "source": [
    "p_reg_l2 = pd.DataFrame(np.array([acc_a_reg_l2, acc_v_reg_l2, ams_a_reg_l2, ams_v_reg_l2]).T, columns=['acc train', 'acc val', 'ams train', 'ams val'], index=[ 0.01, 0.1, 1, 10, 50])\n",
    "p_reg_l2"
   ]
  },
  {
   "cell_type": "code",
   "execution_count": 20,
   "metadata": {
    "collapsed": false
   },
   "outputs": [
    {
     "data": {
      "image/png": "[encoded data removed]",
      "text/plain": [
       "<matplotlib.figure.Figure at 0x1a8a695b4a8>"
      ]
     },
     "metadata": {},
     "output_type": "display_data"
    }
   ],
   "source": [
    "plt.plot([0.01, 0.1, 1, 10, 50], [1.613163, 1.613926, 1.614009, 1.613934, 1.613794], label=\"apprentissage\")\n",
    "plt.plot([0.01, 0.1, 1, 10, 50], [0.805926, 0.806101, 0.806192, 0.806228, 0.806300], label=\"validation\")\n",
    "plt.title(\"AMS de la régression logistique avec une pénalité l2 en fonction des valeurs de C\")\n",
    "plt.legend()\n",
    "plt.show()"
   ]
  },
  {
   "cell_type": "code",
   "execution_count": 19,
   "metadata": {
    "collapsed": false
   },
   "outputs": [
    {
     "data": {
      "image/png": "[encoded data removed]",
      "text/plain": [
       "<matplotlib.figure.Figure at 0x1a8a687dcc0>"
      ]
     },
     "metadata": {},
     "output_type": "display_data"
    }
   ],
   "source": [
    "plt.plot([0.01, 0.1, 1, 10, 50], [0.735073, 0.735166, 0.735175, 0.735172, 0.735191], label=\"apprentissage\")\n",
    "plt.plot([0.01, 0.1, 1, 10, 50], [0.735001, 0.735013, 0.735025, 0.735078, 0.735075], label=\"validation\")\n",
    "plt.title(\"Accuracy de la régression logistique avec une pénalité l2 en fonction des valeurs de C\")\n",
    "plt.legend()\n",
    "plt.show()"
   ]
  },
  {
   "cell_type": "markdown",
   "metadata": {},
   "source": [
    "Random forest"
   ]
  },
  {
   "cell_type": "code",
   "execution_count": 33,
   "metadata": {
    "collapsed": true
   },
   "outputs": [],
   "source": [
    "nb_c=[10, 80, 160, 240, 320]"
   ]
  },
  {
   "cell_type": "code",
   "execution_count": 35,
   "metadata": {
    "collapsed": false
   },
   "outputs": [
    {
     "name": "stdout",
     "output_type": "stream",
     "text": [
      "10\n",
      "80\n",
      "160\n",
      "240\n",
      "320\n"
     ]
    }
   ],
   "source": [
    "acc_a_rf = []\n",
    "acc_v_rf = []\n",
    "ams_a_rf = []\n",
    "ams_v_rf = []\n",
    "scaler  =  StandardScaler () \n",
    "nb_features = int(math.sqrt(len(X_train[0])))\n",
    "for n in nb_c:\n",
    "    print(n)\n",
    "    clf =  RandomForestClassifier( max_features= nb_features, n_estimators=n, max_depth=11, class_weight='balanced', random_state=0)\n",
    "    acc_c_a = []\n",
    "    acc_c_v = []\n",
    "    ams_c_a = []\n",
    "    ams_c_v = []\n",
    "    for c in range (len(ind_cross)):\n",
    "        # création des ensembles d'apprentissage et de validation\n",
    "        i_v = ind_cross[c]\n",
    "        i_a = list(set(np.arange(len(Y_train)))-set(i_v))\n",
    "        x_v = X_train[i_v]\n",
    "        y_v = Y_train[i_v]\n",
    "        w_v = W_train[i_v]\n",
    "        \n",
    "        x_a = X_train[i_a]\n",
    "        y_a = Y_train[i_a]\n",
    "        w_a = W_train[i_a]\n",
    "        \n",
    "        # normalisation \n",
    "        scaler.fit(x_v)\n",
    "        x_v = scaler.transform(x_v)\n",
    "        \n",
    "        scaler.fit(x_a)\n",
    "        x_a = scaler.transform(x_a)\n",
    "        \n",
    "        # apprentissage\n",
    "        clf.fit(x_a, y_a)\n",
    "        \n",
    "        # score accuracy\n",
    "        acc_c_a.append(clf.score(x_a,y_a))\n",
    "        acc_c_v.append(clf.score(x_v,y_v))\n",
    "        \n",
    "        # score AMS \n",
    "        y_a_pred = clf.predict(x_a)\n",
    "        ams_c_a.append(scoreAMS(y_a, y_a_pred, w_a))\n",
    "        y_v_pred = clf.predict(x_v)\n",
    "        ams_c_v.append(scoreAMS(y_v, y_v_pred, w_v))\n",
    "      \n",
    "    # moyenne des score en cross validation\n",
    "    acc_a_rf.append(mean(acc_c_a))\n",
    "    acc_v_rf.append(mean(acc_c_v))\n",
    "    ams_a_rf.append(mean(ams_c_a))\n",
    "    ams_v_rf.append(mean(ams_c_v))\n"
   ]
  },
  {
   "cell_type": "code",
   "execution_count": 36,
   "metadata": {
    "collapsed": false
   },
   "outputs": [
    {
     "name": "stdout",
     "output_type": "stream",
     "text": [
      "acc_a_rf [0.82433507997372402, 0.82663766632548619, 0.82650781405154372, 0.82653416642478494, 0.82665447073740816]\n",
      "acc_v_rf [0.8112910371377503, 0.81393085748331018, 0.81393696817855454, 0.81419667272643947, 0.81420125574787272]\n",
      "ams_a_rf [2.0117767242245717, 2.0323754758678096, 2.0304991579026033, 2.0302598832124588, 2.030785117793113]\n",
      "ams_v_rf [0.9689370081083024, 0.9776866252439264, 0.9770214070371055, 0.9775540170871149, 0.9771623467545041]\n"
     ]
    }
   ],
   "source": [
    "print ('acc_a_rf',acc_a_rf)\n",
    "print ('acc_v_rf',acc_v_rf)\n",
    "print ('ams_a_rf',ams_a_rf)\n",
    "print ('ams_v_rf',ams_v_rf)"
   ]
  },
  {
   "cell_type": "code",
   "execution_count": 22,
   "metadata": {
    "collapsed": false
   },
   "outputs": [
    {
     "name": "stdout",
     "output_type": "stream",
     "text": [
      "Stored 'acc_a_rf' (list)\n",
      "Stored 'acc_v_rf' (list)\n",
      "Stored 'ams_a_rf' (list)\n",
      "Stored 'ams_v_rf' (list)\n"
     ]
    }
   ],
   "source": [
    "\"\"\"%store acc_a_rf\n",
    "%store acc_v_rf\n",
    "%store ams_a_rf\n",
    "%store ams_v_rf\"\"\""
   ]
  },
  {
   "cell_type": "code",
   "execution_count": 40,
   "metadata": {
    "collapsed": false
   },
   "outputs": [
    {
     "data": {
      "image/png": "[encoded data removed]",
      "text/plain": [
       "<matplotlib.figure.Figure at 0x1ff02928c50>"
      ]
     },
     "metadata": {},
     "output_type": "display_data"
    }
   ],
   "source": [
    "plt.plot(nb_c, acc_a_rf, label= \"accuracy en apprentissage\")\n",
    "plt.plot(nb_c, acc_v_rf, label= \"accuracy en validation\")\n",
    "plt.title(\"Accuracy du random forest \\n en fonction du nombre d'arbres de \\n profondeur 11 dans la forêt\")\n",
    "plt.legend()\n",
    "plt.show()"
   ]
  },
  {
   "cell_type": "code",
   "execution_count": 41,
   "metadata": {
    "collapsed": false
   },
   "outputs": [
    {
     "data": {
      "image/png": "[encoded data removed]",
      "text/plain": [
       "<matplotlib.figure.Figure at 0x1ff04872748>"
      ]
     },
     "metadata": {},
     "output_type": "display_data"
    }
   ],
   "source": [
    "plt.plot(nb_c, ams_a_rf, label= \"AMS en apprentissage\")\n",
    "plt.plot(nb_c, ams_v_rf, label= \"AMS en validation\")\n",
    "plt.title(\"AMS du random forest \\n en fonction du nombre d'arbres de \\n profondeur 11 dans la forêt\")\n",
    "plt.legend()\n",
    "plt.show()"
   ]
  },
  {
   "cell_type": "code",
   "execution_count": 39,
   "metadata": {
    "collapsed": false
   },
   "outputs": [
    {
     "data": {
      "text/html": [
       "<div>\n",
       "<table border=\"1\" class=\"dataframe\">\n",
       "  <thead>\n",
       "    <tr style=\"text-align: right;\">\n",
       "      <th></th>\n",
       "      <th>acc train</th>\n",
       "      <th>acc val</th>\n",
       "      <th>ams train</th>\n",
       "      <th>ams val</th>\n",
       "    </tr>\n",
       "  </thead>\n",
       "  <tbody>\n",
       "    <tr>\n",
       "      <th>10</th>\n",
       "      <td>0.824335</td>\n",
       "      <td>0.811291</td>\n",
       "      <td>2.011777</td>\n",
       "      <td>0.968937</td>\n",
       "    </tr>\n",
       "    <tr>\n",
       "      <th>80</th>\n",
       "      <td>0.826638</td>\n",
       "      <td>0.813931</td>\n",
       "      <td>2.032375</td>\n",
       "      <td>0.977687</td>\n",
       "    </tr>\n",
       "    <tr>\n",
       "      <th>160</th>\n",
       "      <td>0.826508</td>\n",
       "      <td>0.813937</td>\n",
       "      <td>2.030499</td>\n",
       "      <td>0.977021</td>\n",
       "    </tr>\n",
       "    <tr>\n",
       "      <th>240</th>\n",
       "      <td>0.826534</td>\n",
       "      <td>0.814197</td>\n",
       "      <td>2.030260</td>\n",
       "      <td>0.977554</td>\n",
       "    </tr>\n",
       "    <tr>\n",
       "      <th>320</th>\n",
       "      <td>0.826654</td>\n",
       "      <td>0.814201</td>\n",
       "      <td>2.030785</td>\n",
       "      <td>0.977162</td>\n",
       "    </tr>\n",
       "  </tbody>\n",
       "</table>\n",
       "</div>"
      ],
      "text/plain": [
       "     acc train   acc val  ams train   ams val\n",
       "10    0.824335  0.811291   2.011777  0.968937\n",
       "80    0.826638  0.813931   2.032375  0.977687\n",
       "160   0.826508  0.813937   2.030499  0.977021\n",
       "240   0.826534  0.814197   2.030260  0.977554\n",
       "320   0.826654  0.814201   2.030785  0.977162"
      ]
     },
     "execution_count": 39,
     "metadata": {},
     "output_type": "execute_result"
    }
   ],
   "source": [
    "p_rf = pd.DataFrame(np.array([acc_a_rf, acc_v_rf, ams_a_rf, ams_v_rf]).T, columns=['acc train', 'acc val', 'ams train', 'ams val'], index=nb_c)\n",
    "p_rf"
   ]
  },
  {
   "cell_type": "markdown",
   "metadata": {},
   "source": [
    "adaboost"
   ]
  },
  {
   "cell_type": "code",
   "execution_count": null,
   "metadata": {
    "collapsed": false
   },
   "outputs": [],
   "source": [
    "acc_a_ab = []\n",
    "acc_v_ab = []\n",
    "ams_a_ab = []\n",
    "ams_v_ab = []\n",
    "scaler  =  StandardScaler () \n",
    "for n in [10,60,110,160,210,260,310]:\n",
    "    print(n)\n",
    "    clf =  AdaBoostClassifier(base_estimator=tree.DecisionTreeClassifier(max_depth=3), n_estimators=n, random_state=0)\n",
    "    acc_c_a = []\n",
    "    acc_c_v = []\n",
    "    ams_c_a = []\n",
    "    ams_c_v = []\n",
    "    for c in range (len(ind_cross)):\n",
    "        # création des ensembles d'apprentissage et de validation\n",
    "        i_v = ind_cross[c]\n",
    "        i_a = list(set(np.arange(len(Y_train)))-set(i_v))\n",
    "        x_v = X_train[i_v]\n",
    "        y_v = Y_train[i_v]\n",
    "        w_v = W_train[i_v]\n",
    "        \n",
    "        x_a = X_train[i_a]\n",
    "        y_a = Y_train[i_a]\n",
    "        w_a = W_train[i_a]\n",
    "        \n",
    "        # normalisation \n",
    "        scaler.fit(x_v)\n",
    "        x_v = scaler.transform(x_v)\n",
    "        \n",
    "        scaler.fit(x_a)\n",
    "        x_a = scaler.transform(x_a)\n",
    "        \n",
    "        # apprentissage\n",
    "        clf.fit(x_a, y_a)\n",
    "        \n",
    "        # score accuracy\n",
    "        acc_c_a.append(clf.score(x_a,y_a))\n",
    "        acc_c_v.append(clf.score(x_v,y_v))\n",
    "        \n",
    "        # score AMS \n",
    "        y_a_pred = clf.predict(x_a)\n",
    "        ams_c_a.append(scoreAMS(y_a, y_a_pred, w_a))\n",
    "        y_v_pred = clf.predict(x_v)\n",
    "        ams_c_v.append(scoreAMS(y_v, y_v_pred, w_v))\n",
    "      \n",
    "    # moyenne des score en cross validation\n",
    "    acc_a_ab.append(mean(acc_c_a))\n",
    "    acc_v_ab.append(mean(acc_c_v))\n",
    "    ams_a_ab.append(mean(ams_c_a))\n",
    "    ams_v_ab.append(mean(ams_c_v))"
   ]
  },
  {
   "cell_type": "code",
   "execution_count": null,
   "metadata": {
    "collapsed": false
   },
   "outputs": [],
   "source": [
    "print ('acc_a_ab',acc_a_ab)\n",
    "print ('acc_v_ab',acc_v_ab)\n",
    "print ('ams_a_ab',ams_a_ab)\n",
    "print ('ams_v_ab',ams_v_ab)"
   ]
  },
  {
   "cell_type": "code",
   "execution_count": null,
   "metadata": {
    "collapsed": false
   },
   "outputs": [],
   "source": [
    "%store acc_a_ab\n",
    "%store acc_v_ab\n",
    "%store ams_a_ab\n",
    "%store ams_v_ab"
   ]
  },
  {
   "cell_type": "code",
   "execution_count": null,
   "metadata": {
    "collapsed": false
   },
   "outputs": [],
   "source": [
    "plt.plot([10,40,70,100,130,160,190],acc_a_ab, label=\"apprentissage\")\n",
    "plt.plot([10,40,70,100,130,160,190],acc_v_ab, label=\"validation\")\n",
    "plt.title(\"Accuracy d'adaboost en fonction du nombre de classifieurs\")\n",
    "plt.legend()\n",
    "plt.show()"
   ]
  },
  {
   "cell_type": "code",
   "execution_count": null,
   "metadata": {
    "collapsed": true
   },
   "outputs": [],
   "source": [
    "plt.plot([10,40,70,100,130,160,190],ams_a_ab, label=\"apprentissage\")\n",
    "plt.plot([10,40,70,100,130,160,190],ams_v_ab, label=\"validation\")\n",
    "plt.title(\"AMS d'adaboost en fonction du nombre de classifieurs\")\n",
    "plt.legend()\n",
    "plt.show()"
   ]
  },
  {
   "cell_type": "code",
   "execution_count": null,
   "metadata": {
    "collapsed": false
   },
   "outputs": [],
   "source": [
    "p_ab = pd.DataFrame(np.array([acc_a_ab, acc_v_ab, ams_a_ab, ams_v_ab]).T, columns=['acc train', 'acc val', 'ams train', 'ams val'], index=[10,40,70,100,130,160,190])\n",
    "p_ab"
   ]
  },
  {
   "cell_type": "code",
   "execution_count": 15,
   "metadata": {
    "collapsed": false
   },
   "outputs": [
    {
     "data": {
      "text/html": [
       "<div>\n",
       "<table border=\"1\" class=\"dataframe\">\n",
       "  <thead>\n",
       "    <tr style=\"text-align: right;\">\n",
       "      <th></th>\n",
       "      <th>0</th>\n",
       "      <th>1</th>\n",
       "    </tr>\n",
       "  </thead>\n",
       "  <tbody>\n",
       "    <tr>\n",
       "      <th>0</th>\n",
       "      <td>0.8125</td>\n",
       "      <td>1.0473</td>\n",
       "    </tr>\n",
       "    <tr>\n",
       "      <th>1</th>\n",
       "      <td>0.7350</td>\n",
       "      <td>0.8930</td>\n",
       "    </tr>\n",
       "  </tbody>\n",
       "</table>\n",
       "</div>"
      ],
      "text/plain": [
       "        0       1\n",
       "0  0.8125  1.0473\n",
       "1  0.7350  0.8930"
      ]
     },
     "execution_count": 15,
     "metadata": {},
     "output_type": "execute_result"
    }
   ],
   "source": [
    "pd.DataFrame(np.array([[0.8125, 1.0473], [0.735, 0.893]]))"
   ]
  },
  {
   "cell_type": "code",
   "execution_count": 18,
   "metadata": {
    "collapsed": false
   },
   "outputs": [
    {
     "data": {
      "text/html": [
       "<div>\n",
       "<table border=\"1\" class=\"dataframe\">\n",
       "  <thead>\n",
       "    <tr style=\"text-align: right;\">\n",
       "      <th></th>\n",
       "      <th>accuracy</th>\n",
       "      <th>ams</th>\n",
       "    </tr>\n",
       "  </thead>\n",
       "  <tbody>\n",
       "    <tr>\n",
       "      <th>arbre de décision</th>\n",
       "      <td>0.8125</td>\n",
       "      <td>1.0473</td>\n",
       "    </tr>\n",
       "    <tr>\n",
       "      <th>régression logistique</th>\n",
       "      <td>0.7350</td>\n",
       "      <td>0.8930</td>\n",
       "    </tr>\n",
       "  </tbody>\n",
       "</table>\n",
       "</div>"
      ],
      "text/plain": [
       "                       accuracy     ams\n",
       "arbre de décision        0.8125  1.0473\n",
       "régression logistique    0.7350  0.8930"
      ]
     },
     "execution_count": 18,
     "metadata": {},
     "output_type": "execute_result"
    }
   ],
   "source": [
    "p_final = pd.DataFrame(np.array([[0.8125, 1.0473], [0.735, 0.893]]), columns = ['accuracy', 'ams'], index=[\"arbre de décision\", \"régression logistique\"])\n",
    "p_final"
   ]
  }
 ],
 "metadata": {
  "kernelspec": {
   "display_name": "Python 3",
   "language": "python",
   "name": "python3"
  },
  "language_info": {
   "codemirror_mode": {
    "name": "ipython",
    "version": 3
   },
   "file_extension": ".py",
   "mimetype": "text/x-python",
   "name": "python",
   "nbconvert_exporter": "python",
   "pygments_lexer": "ipython3",
   "version": "3.6.1"
  }
 },
 "nbformat": 4,
 "nbformat_minor": 2
}
